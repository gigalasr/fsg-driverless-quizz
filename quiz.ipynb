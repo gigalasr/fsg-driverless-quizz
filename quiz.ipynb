{
 "cells": [
  {
   "attachments": {},
   "cell_type": "markdown",
   "metadata": {},
   "source": [
    "# Given Parameters\n",
    "\n",
    "**Camera Position**\n",
    "\n",
    "Pos: $x = 500mm, y = 160mm, z =1140mm$\n",
    "\n",
    "Rot: $ZY'X'' - roll: 100°, pitch=0°, yaw=90°$\n",
    "\n",
    "**Intrinsic Parameters**\n",
    "\n",
    "Res: $1280px \\times 1080px$\n",
    "\n",
    "Intr: $c_x = 636px, c_y = 548px, fx=241px, fy=238px$\n",
    "\n",
    "**Projected Point**\n",
    "\n",
    "$u=795px, v=467px$\n",
    "$d=2.7m$\n"
   ]
  },
  {
   "cell_type": "code",
   "execution_count": 5,
   "metadata": {},
   "outputs": [
    {
     "name": "stdout",
     "output_type": "stream",
     "text": [
      "SOLUTION:\n",
      "[[4.3230969 ]\n",
      " [2.28151352]\n",
      " [1.43823827]\n",
      " [2.7       ]]\n"
     ]
    }
   ],
   "source": [
    "\n",
    "import numpy as np\n",
    "import numpy.linalg as lin\n",
    "import scipy.spatial.transform as T\n",
    "\n",
    "# Camera parameters\n",
    "i_x = -0.500  # m\n",
    "i_y = -0.160  # m\n",
    "i_z = -1.140  # m\n",
    "\n",
    "i_roll  = (-99.8) #deg\n",
    "i_pitch = (0)  #deg\n",
    "i_yaw   = (-90.9)  #deg\n",
    "\n",
    "res_x = 1280 #px\n",
    "res_y = 1080 #px\n",
    "\n",
    "c_x = 636.0 #px\n",
    "c_y = 548.0 #px\n",
    "f_x = 241.0 #px\n",
    "f_y = 238.0 #px\n",
    "\n",
    "u = 795 #px\n",
    "v = 467 #px\n",
    "d = 2.7 #m\n",
    "\n",
    "\n",
    "def extrinsic_matrix(x,y,z,roll,pitch,yaw):\n",
    "    roll = np.radians(roll)\n",
    "    pitch = np.radians(pitch)\n",
    "    yaw = np.radians(yaw)\n",
    "\n",
    "    quat_roll  = T.Rotation.from_quat([np.sin(roll / 2.0), 0,                   0              , np.cos(roll / 2.0)  ]) # X\n",
    "    quat_pitch = T.Rotation.from_quat([0,                  np.sin(pitch / 2.0), 0              , np.cos(pitch / 2.0) ]) # Y\n",
    "    quat_yaw   = T.Rotation.from_quat([0,                  0,                   np.sin(yaw/2.0), np.cos(yaw / 2.0)   ]) # Z      \n",
    "    \n",
    "    # Intrinsic Rotation z'y'x'' = ZYX\n",
    "    rot = quat_roll * quat_pitch * quat_yaw\n",
    "    rot = rot.as_matrix()\n",
    "\n",
    "    translation = np.zeros((4,4))\n",
    "    translation[:3, :3] = rot\n",
    "    \n",
    "    translation[0, 3] = y\n",
    "    translation[1, 3] = z\n",
    "    translation[2, 3] = x\n",
    "    translation[3, 3] = 1\n",
    "\n",
    "    return translation\n",
    "\n",
    "def intrinsic_matrix():\n",
    "    intrinsic = np.array([\n",
    "        [f_x, 0,   c_x, 0],\n",
    "        [0,   f_y, c_y, 0],\n",
    "        [0,   0,   1,   0],\n",
    "        [0,   0,   0,   1]\n",
    "    ])\n",
    "    \n",
    "    return intrinsic\n",
    "    \n",
    "\n",
    "question = np.array([[u],[v],[1],[1]])\n",
    "\n",
    "intrinsic = intrinsic_matrix()\n",
    "extrinsic = extrinsic_matrix(i_x,i_y,i_z,i_roll,i_pitch,i_yaw)\n",
    "\n",
    "proj = intrinsic @ extrinsic\n",
    "inv_proj = lin.inv(proj)\n",
    "\n",
    "unproj_question =  inv_proj @ question\n",
    "print(\"SOLUTION:\")\n",
    "print(unproj_question * d)\n"
   ]
  },
  {
   "attachments": {},
   "cell_type": "markdown",
   "metadata": {},
   "source": [
    "## Resources\n",
    "- https://www.mathworks.com/help/driving/ug/coordinate-systems.html\n",
    "- https://danceswithcode.net/engineeringnotes/quaternions/quaternions.html\n",
    "- https://docs.opencv.org/4.x/d9/d0c/group__calib3d.html (scroll down)"
   ]
  }
 ],
 "metadata": {
  "kernelspec": {
   "display_name": ".venv",
   "language": "python",
   "name": "python3"
  },
  "language_info": {
   "codemirror_mode": {
    "name": "ipython",
    "version": 3
   },
   "file_extension": ".py",
   "mimetype": "text/x-python",
   "name": "python",
   "nbconvert_exporter": "python",
   "pygments_lexer": "ipython3",
   "version": "3.12.7"
  },
  "orig_nbformat": 4
 },
 "nbformat": 4,
 "nbformat_minor": 2
}
